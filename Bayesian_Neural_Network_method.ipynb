{
  "cells": [
    {
      "cell_type": "markdown",
      "metadata": {
        "id": "view-in-github",
        "colab_type": "text"
      },
      "source": [
        "<a href=\"https://colab.research.google.com/github/Zuoyu2524/BNN/blob/main/Bayesian_Neural_Network_method.ipynb\" target=\"_parent\"><img src=\"https://colab.research.google.com/assets/colab-badge.svg\" alt=\"Open In Colab\"/></a>"
      ]
    },
    {
      "cell_type": "markdown",
      "metadata": {
        "id": "2SK33u1UlLB9"
      },
      "source": [
        "#Bayesian Neural Network method\n",
        "Here we first use a basic Bayesian neural network to learn the given features (area of attack, industry, victim, etc.) through supervised learning methods to first analyze which type of attack is most probable for the object, and then analyze the specific possible attack events and the corresponding probabilities.\n",
        "\n",
        "We will use two types of data pre-processing for training and testing respectively.\n",
        "\n",
        "For an introduction to Bayesian neural networks, see：https://arxiv.org/ftp/arxiv/papers/1801/1801.07710.pdf\n",
        "\n",
        "Helpful documentation on implementing Bayesian networks：\n",
        "\n",
        "https://pyro4ci.readthedocs.io/en/latest/contrib.bnn.html\n",
        "\n",
        "https://zenodo.org/record/5908307#.Yv-TEXZBxD-\n",
        "\n",
        "https://github.com/DoctorLoop/BayesianDeepLearning"
      ]
    },
    {
      "cell_type": "markdown",
      "metadata": {
        "id": "uHAEBpsBUehU"
      },
      "source": [
        "###Install the pyro library"
      ]
    },
    {
      "cell_type": "code",
      "execution_count": null,
      "metadata": {
        "colab": {
          "base_uri": "https://localhost:8080/"
        },
        "id": "d6pHhv5DWJO_",
        "outputId": "91297a43-3f86-4f49-a882-8793be3c42e1"
      },
      "outputs": [
        {
          "output_type": "stream",
          "name": "stdout",
          "text": [
            "Looking in indexes: https://pypi.org/simple, https://us-python.pkg.dev/colab-wheels/public/simple/\n",
            "Collecting pyro-ppl==1.4.0\n",
            "  Downloading pyro_ppl-1.4.0-py3-none-any.whl (573 kB)\n",
            "\u001b[K     |████████████████████████████████| 573 kB 8.1 MB/s \n",
            "\u001b[?25hRequirement already satisfied: torch>=1.5.0 in /usr/local/lib/python3.7/dist-packages (from pyro-ppl==1.4.0) (1.12.1+cu113)\n",
            "Requirement already satisfied: numpy>=1.7 in /usr/local/lib/python3.7/dist-packages (from pyro-ppl==1.4.0) (1.21.6)\n",
            "Requirement already satisfied: tqdm>=4.36 in /usr/local/lib/python3.7/dist-packages (from pyro-ppl==1.4.0) (4.64.0)\n",
            "Requirement already satisfied: opt-einsum>=2.3.2 in /usr/local/lib/python3.7/dist-packages (from pyro-ppl==1.4.0) (3.3.0)\n",
            "Collecting pyro-api>=0.1.1\n",
            "  Downloading pyro_api-0.1.2-py3-none-any.whl (11 kB)\n",
            "Requirement already satisfied: typing-extensions in /usr/local/lib/python3.7/dist-packages (from torch>=1.5.0->pyro-ppl==1.4.0) (4.1.1)\n",
            "Installing collected packages: pyro-api, pyro-ppl\n",
            "Successfully installed pyro-api-0.1.2 pyro-ppl-1.4.0\n"
          ]
        }
      ],
      "source": [
        "!pip3 install pyro-ppl==1.4.0"
      ]
    },
    {
      "cell_type": "markdown",
      "metadata": {
        "id": "yVQ6UncLWahz"
      },
      "source": [
        "###Import all required modules"
      ]
    },
    {
      "cell_type": "code",
      "execution_count": null,
      "metadata": {
        "id": "pR53zg4KWeyR"
      },
      "outputs": [],
      "source": [
        "import numpy as np\n",
        "import torch\n",
        "import torch.nn as nn\n",
        "import torch.nn.functional as F\n",
        "import torch.utils.data as data\n",
        "from torchvision import datasets\n",
        "from torchvision import transforms\n",
        "from torch.utils.data import Dataset, DataLoader, random_split\n",
        "import torch.optim as optim\n",
        "\n",
        "import pyro\n",
        "from pyro.distributions import Normal\n",
        "from pyro.distributions import Categorical\n",
        "from pyro.optim import Adam\n",
        "from pyro.infer import SVI\n",
        "from pyro.infer import Trace_ELBO\n",
        "\n",
        "import matplotlib.pyplot as plt\n",
        "import seaborn as sns\n",
        "import os\n",
        "sns.set()"
      ]
    },
    {
      "cell_type": "markdown",
      "metadata": {
        "id": "nRH3u8CQWpJ7"
      },
      "source": [
        "###Preparing the data set"
      ]
    },
    {
      "cell_type": "code",
      "execution_count": null,
      "metadata": {
        "id": "uUpmAFlRrqju"
      },
      "outputs": [],
      "source": [
        "import pandas as pd\n",
        "import csv\n",
        "\n",
        "df = pd.read_csv(\"/content/datas with labels.csv\", header=0, encoding='latin1',names=['f','g',\n",
        "          'h', 'i', 'j',\n",
        "          'k', 'l', 'm',\n",
        "          'n', 'o', 'p'\n",
        "          ])\n",
        "#Converting pandas table data into a list\n",
        "list1 = df.values.tolist()\n",
        "labels_set = np.array(list1)"
      ]
    },
    {
      "cell_type": "code",
      "execution_count": null,
      "metadata": {
        "id": "ejsORCIVWuX4"
      },
      "outputs": [],
      "source": [
        "class getDataset(Dataset):\n",
        "    def __init__(self, path_data, labels):\n",
        "      data = np.load(path_data, allow_pickle=True).astype(np.float32)\n",
        "      label = labels.astype(np.float32)\n",
        "\n",
        "      self.x_data = torch.from_numpy(data)\n",
        "      self.y_data = torch.from_numpy(labels)\n",
        "      self.len = data.shape[0]\n",
        "\n",
        "    def __getitem__(self, index):\n",
        "      return self.x_data[index], self.y_data[index]\n",
        "\n",
        "    def __len__(self):\n",
        "      return self.len"
      ]
    },
    {
      "cell_type": "markdown",
      "metadata": {
        "id": "e64z2XZCW17b"
      },
      "source": [
        "###Making the train and test data set"
      ]
    },
    {
      "cell_type": "code",
      "execution_count": null,
      "metadata": {
        "id": "wgOs3Sx3yXIW"
      },
      "outputs": [],
      "source": [
        "myDataset = getDataset('/content/wordvector.npy',labels_set)\n",
        "train_data, test_data = random_split(myDataset,[int(len(myDataset)*0.9), len(myDataset)-int(len(myDataset)*0.9)])"
      ]
    },
    {
      "cell_type": "markdown",
      "metadata": {
        "id": "zBeA2C_Ab3QY"
      },
      "source": [
        "###Building a Bayesian MLP network structure"
      ]
    },
    {
      "cell_type": "code",
      "execution_count": null,
      "metadata": {
        "id": "71m7ilO9cCaJ"
      },
      "outputs": [],
      "source": [
        "class BNN_net(nn.Module):\n",
        "    def __init__(self, input_features):\n",
        "        super(BNN_net, self).__init__()\n",
        "        self.fc1 = nn.Linear(input_features, 502)\n",
        "        self.fc2 = nn.Linear(502, 128)\n",
        "        self.fc3 = nn.Linear(128, 64)\n",
        "        self.fc4 = nn.Linear(64, 11)\n",
        "\n",
        "    def forward(self, x):\n",
        "        x = self.fc1(x)\n",
        "        x = F.relu(x)\n",
        "        x = self.fc2(x)\n",
        "        x = F.relu(x)\n",
        "        x = self.fc3(x)\n",
        "        x = F.relu(x)\n",
        "        x = self.fc4(x)\n",
        "        return x"
      ]
    },
    {
      "cell_type": "code",
      "execution_count": null,
      "metadata": {
        "id": "xi2qWJLJcV7k"
      },
      "outputs": [],
      "source": [
        "net = BNN_net(750)"
      ]
    },
    {
      "cell_type": "markdown",
      "metadata": {
        "id": "i7x6jttIpCMR"
      },
      "source": [
        "###Based on normal distribution, initialize weights and bias"
      ]
    },
    {
      "cell_type": "code",
      "execution_count": null,
      "metadata": {
        "id": "kIogs7QvpGmd"
      },
      "outputs": [],
      "source": [
        "def model(x_data, y_data):\n",
        "    # define prior destributions\n",
        "    fc1w_prior = Normal(loc=torch.zeros_like(net.fc1.weight), scale=torch.ones_like(net.fc1.weight))\n",
        "    fc1b_prior = Normal(loc=torch.zeros_like(net.fc1.bias), scale=torch.ones_like(net.fc1.bias))\n",
        "\n",
        "    fc2w_prior = Normal(loc=torch.zeros_like(net.fc2.weight), scale=torch.ones_like(net.fc2.weight))\n",
        "    fc2b_prior = Normal(loc=torch.zeros_like(net.fc2.bias), scale=torch.ones_like(net.fc2.bias))\n",
        "\n",
        "    fc3w_prior = Normal(loc=torch.zeros_like(net.fc3.weight), scale=torch.ones_like(net.fc3.weight))\n",
        "    fc3b_prior = Normal(loc=torch.zeros_like(net.fc3.bias), scale=torch.ones_like(net.fc3.bias))\n",
        "\n",
        "    fc4w_prior = Normal(loc=torch.zeros_like(net.fc4.weight), scale=torch.ones_like(net.fc4.weight))\n",
        "    fc4b_prior = Normal(loc=torch.zeros_like(net.fc4.bias), scale=torch.ones_like(net.fc4.bias))\n",
        "\n",
        "    priors = {\n",
        "        'fc1.weight': fc1w_prior,\n",
        "        'fc1.bias': fc1b_prior,\n",
        "        'fc2.weight': fc2w_prior,\n",
        "        'fc2.bias': fc2b_prior,\n",
        "        'fc3.weight': fc3w_prior,\n",
        "        'fc3.bias': fc3b_prior,\n",
        "        'fc4.weight': fc4w_prior,\n",
        "        'fc4.bias': fc4b_prior}\n",
        "\n",
        "\n",
        "    lifted_module = pyro.random_module(\"module\", net, priors)\n",
        "    lifted_reg_model = lifted_module()\n",
        "\n",
        "    probs = F.sigmoid(lifted_reg_model(x_data))\n",
        "    pyro.enable_validation(False)\n",
        "    pyro.sample(\"obs\", Categorical(logits=probs), obs=y_data)"
      ]
    },
    {
      "cell_type": "markdown",
      "metadata": {
        "id": "pRMVapATpOgY"
      },
      "source": [
        "###Create approximate posterior probability distributions"
      ]
    },
    {
      "cell_type": "code",
      "execution_count": null,
      "metadata": {
        "id": "XdcHR4a7pQRb"
      },
      "outputs": [],
      "source": [
        "def guide(x_data, y_data):\n",
        "    fc1w_mu = torch.randn_like(net.fc1.weight)\n",
        "    fc1w_sigma = torch.randn_like(net.fc1.weight)\n",
        "    fc1w_mu_param = pyro.param(\"fc1w_mu\", fc1w_mu)\n",
        "    fc1w_sigma_param = F.softplus(pyro.param(\"fc1w_sigma\", fc1w_sigma))\n",
        "    fc1w_prior = Normal(loc=fc1w_mu_param, scale=fc1w_sigma_param)\n",
        "\n",
        "    fc1b_mu = torch.randn_like(net.fc1.bias)\n",
        "    fc1b_sigma = torch.randn_like(net.fc1.bias)\n",
        "    fc1b_mu_param = pyro.param(\"fc1b_mu\", fc1b_mu)\n",
        "    fc1b_sigma_param = F.softplus(pyro.param(\"fc1b_sigma\", fc1b_sigma))\n",
        "    fc1b_prior = Normal(loc=fc1b_mu_param, scale=fc1b_sigma_param)\n",
        "\n",
        "    fc2w_mu = torch.randn_like(net.fc2.weight)\n",
        "    fc2w_sigma = torch.randn_like(net.fc2.weight)\n",
        "    fc2w_mu_param = pyro.param(\"fc2w_mu\", fc2w_mu)\n",
        "    fc2w_sigma_param = F.softplus(pyro.param(\"fc2w_sigma\", fc2w_sigma))\n",
        "    fc2w_prior = Normal(loc=fc2w_mu_param, scale=fc2w_sigma_param)\n",
        "\n",
        "    fc2b_mu = torch.randn_like(net.fc2.bias)\n",
        "    fc2b_sigma = torch.randn_like(net.fc2.bias)\n",
        "    fc2b_mu_param = pyro.param(\"fc2b_mu\", fc2b_mu)\n",
        "    fc2b_sigma_param = F.softplus(pyro.param(\"fc2b_sigma\", fc2b_sigma))\n",
        "    fc2b_prior = Normal(loc=fc2b_mu_param, scale=fc2b_sigma_param)\n",
        "\n",
        "    fc3w_mu = torch.randn_like(net.fc3.weight)\n",
        "    fc3w_sigma = torch.randn_like(net.fc3.weight)\n",
        "    fc3w_mu_param = pyro.param(\"fc3w_mu\", fc3w_mu)\n",
        "    fc3w_sigma_param = F.softplus(pyro.param(\"fc3w_sigma\", fc3w_sigma))\n",
        "    fc3w_prior = Normal(loc=fc3w_mu_param, scale=fc3w_sigma_param).independent(1)\n",
        "\n",
        "    fc3b_mu = torch.randn_like(net.fc3.bias)\n",
        "    fc3b_sigma = torch.randn_like(net.fc3.bias)\n",
        "    fc3b_mu_param = pyro.param(\"fc3b_mu\", fc3b_mu)\n",
        "    fc3b_sigma_param = F.softplus(pyro.param(\"fc3b_sigma\", fc3b_sigma))\n",
        "    fc3b_prior = Normal(loc=fc3b_mu_param, scale=fc3b_sigma_param)\n",
        "\n",
        "    fc4w_mu = torch.randn_like(net.fc4.weight)\n",
        "    fc4w_sigma = torch.randn_like(net.fc4.weight)\n",
        "    fc4w_mu_param = pyro.param(\"fc4w_mu\", fc4w_mu)\n",
        "    fc4w_sigma_param = F.softplus(pyro.param(\"fc4w_sigma\", fc4w_sigma))\n",
        "    fc4w_prior = Normal(loc=fc4w_mu_param, scale=fc4w_sigma_param)\n",
        "\n",
        "    fc4b_mu = torch.randn_like(net.fc4.bias)\n",
        "    fc4b_sigma = torch.randn_like(net.fc4.bias)\n",
        "    fc4b_mu_param = pyro.param(\"fc4b_mu\", fc4b_mu)\n",
        "    fc4b_sigma_param = F.softplus(pyro.param(\"fc4b_sigma\", fc4b_sigma))\n",
        "    fc4b_prior = Normal(loc=fc4b_mu_param, scale=fc4b_sigma_param)\n",
        "\n",
        "    priors = {\n",
        "        'fc1.weight': fc1w_prior,\n",
        "        'fc1.bias': fc1b_prior,\n",
        "        'fc2.weight': fc2w_prior,\n",
        "        'fc2.bias': fc2b_prior,\n",
        "        'fc3.weight': fc3w_prior,\n",
        "        'fc3.bias': fc3b_prior,\n",
        "        'fc4.weight': fc4w_prior,\n",
        "        'fc4.bias': fc4b_prior}\n",
        "\n",
        "    lifted_module = pyro.random_module(\"module\", net, priors)\n",
        "\n",
        "    return lifted_module()"
      ]
    },
    {
      "cell_type": "markdown",
      "metadata": {
        "id": "7Qq7GlkQpWy9"
      },
      "source": [
        "###SVI variational inference approximates the posterior probability distribution"
      ]
    },
    {
      "cell_type": "code",
      "execution_count": null,
      "metadata": {
        "id": "x4lrh4wLpYQc"
      },
      "outputs": [],
      "source": [
        "optimi = Adam({\"lr\": 0.001})\n",
        "svi = SVI(model, guide, optimi, loss=Trace_ELBO())"
      ]
    },
    {
      "cell_type": "markdown",
      "metadata": {
        "id": "9_D462l_tz0n"
      },
      "source": [
        "###Train module"
      ]
    },
    {
      "cell_type": "code",
      "execution_count": null,
      "metadata": {
        "id": "LcLAv8GYW01-"
      },
      "outputs": [],
      "source": [
        "train_loader = DataLoader(dataset=train_data, batch_size=64, shuffle=True)\n",
        "test_loader = DataLoader(dataset=test_data, batch_size=1, shuffle=True)"
      ]
    },
    {
      "cell_type": "code",
      "execution_count": null,
      "metadata": {
        "colab": {
          "base_uri": "https://localhost:8080/"
        },
        "id": "WjPO-D5Atoch",
        "outputId": "83f7e3b9-a385-43b9-df29-63e583900da2"
      },
      "outputs": [
        {
          "output_type": "stream",
          "name": "stdout",
          "text": [
            "Epoch  0  Loss  24.239655508959714\n",
            "Epoch  1  Loss  23.987741598631516\n",
            "Epoch  2  Loss  24.072620603358423\n",
            "Epoch  3  Loss  24.069777999753104\n",
            "Epoch  4  Loss  24.062816101226787\n",
            "Epoch  5  Loss  24.08464907612972\n",
            "Epoch  6  Loss  23.855202010321026\n",
            "Epoch  7  Loss  23.948485426728734\n",
            "Epoch  8  Loss  23.90374701127458\n",
            "Epoch  9  Loss  23.83462024278498\n",
            "Epoch  10  Loss  23.736030437249166\n",
            "Epoch  11  Loss  23.717716042202948\n",
            "Epoch  12  Loss  23.8131540464098\n",
            "Epoch  13  Loss  23.905896014791153\n",
            "Epoch  14  Loss  24.04405878280663\n",
            "Epoch  15  Loss  23.991803657890216\n",
            "Epoch  16  Loss  24.068371982011673\n",
            "Epoch  17  Loss  23.97599558749577\n",
            "Epoch  18  Loss  24.07129858390649\n",
            "Epoch  19  Loss  24.040000368874985\n",
            "Epoch  20  Loss  23.7936856162213\n",
            "Epoch  21  Loss  23.823697325933598\n",
            "Epoch  22  Loss  23.856253819738363\n",
            "Epoch  23  Loss  23.69075054709619\n",
            "Epoch  24  Loss  23.629427568576766\n",
            "Epoch  25  Loss  23.562908098591304\n",
            "Epoch  26  Loss  23.549509643791538\n",
            "Epoch  27  Loss  23.429315870282633\n",
            "Epoch  28  Loss  23.547994153147194\n",
            "Epoch  29  Loss  23.43020710887117\n"
          ]
        }
      ],
      "source": [
        "n_iterations = 30\n",
        "loss = 0.0\n",
        "\n",
        "for j in range(n_iterations):\n",
        "    loss = 0.0\n",
        "    running_loss = 0.0\n",
        "    for batch_id, data in enumerate(train_loader):\n",
        "      loss += svi.step(data[0].view(-1,5*150), data[1].view(1*11,-1))\n",
        "\n",
        "    normalizer_train = len(train_loader.dataset)\n",
        "    total_epoch_loss_train = loss / normalizer_train\n",
        "\n",
        "    loss_list.append(total_epoch_loss_train)\n",
        "    print(\"Epoch \", j, \" Loss \", total_epoch_loss_train)"
      ]
    },
    {
      "cell_type": "code",
      "source": [
        "import matplotlib.pyplot as plt\n",
        "\n",
        "plt.plot(loss_list, '.-')\n",
        "plt.title('Train loss vs. epoches')\n",
        "plt.ylabel('Train loss')\n",
        "plt.xlabel('Epoches')\n",
        "plt.show()"
      ],
      "metadata": {
        "colab": {
          "base_uri": "https://localhost:8080/",
          "height": 301
        },
        "id": "Kkn945HbZCms",
        "outputId": "cbf32d79-e390-466b-e6ba-248c8ff35aef"
      },
      "execution_count": null,
      "outputs": [
        {
          "output_type": "display_data",
          "data": {
            "text/plain": [
              "<Figure size 432x288 with 1 Axes>"
            ],
            "image/png": "[encoded data removed]"
          },
          "metadata": {}
        }
      ]
    },
    {
      "cell_type": "markdown",
      "metadata": {
        "id": "N-id9li4t3-j"
      },
      "source": [
        "###Test Module"
      ]
    },
    {
      "cell_type": "markdown",
      "source": [
        "Determine whether each type of attack is likely to occur based on the normalized probability distribution"
      ],
      "metadata": {
        "id": "pvLFzs32ZXbZ"
      }
    },
    {
      "cell_type": "code",
      "execution_count": null,
      "metadata": {
        "id": "EGWp8mXGCmtl"
      },
      "outputs": [],
      "source": [
        "def get_labels(x, mean):\n",
        "  labels = []\n",
        "  #print(x[0])\n",
        "  for i in x[0]:\n",
        "    if i.item()<mean:\n",
        "      labels.append(0.0)\n",
        "    else:\n",
        "      labels.append(1.0)\n",
        "  return labels"
      ]
    },
    {
      "cell_type": "markdown",
      "source": [
        "Data normalization"
      ],
      "metadata": {
        "id": "XrOH606wZzdQ"
      }
    },
    {
      "cell_type": "code",
      "execution_count": null,
      "metadata": {
        "id": "bwQdEeU15700"
      },
      "outputs": [],
      "source": [
        "def normalize(x):\n",
        "  return (x - x.min()) / (x.max() - x.min())"
      ]
    },
    {
      "cell_type": "code",
      "execution_count": null,
      "metadata": {
        "id": "X10cYHShCdgT"
      },
      "outputs": [],
      "source": [
        "def predict_label(x):\n",
        "  proba = []\n",
        "  #Since the output result is 11, the number of samples here is 11\n",
        "  n_samples = 11\n",
        "  sampled_models = [guide(None, None) for _ in range(n_samples)]\n",
        "  yhats = [model(x).data for model in sampled_models]\n",
        "  mean = torch.mean(torch.stack(yhats), 0)\n",
        "  average = 0\n",
        "  for i in range(n_samples):\n",
        "     single = F.softmax(torch.Tensor(normalize(mean.numpy()))[0])\n",
        "     proba.append(single)\n",
        "     average += torch.mean(single).item()\n",
        "  #print(average/11)\n",
        "  labels = get_labels(proba, average/11)\n",
        "  return torch.tensor(labels, dtype=torch.float32)"
      ]
    },
    {
      "cell_type": "code",
      "execution_count": null,
      "metadata": {
        "colab": {
          "base_uri": "https://localhost:8080/"
        },
        "id": "g6nCUTvsCA-D",
        "outputId": "2aae7579-997d-4824-83f2-029e7c14d0c1"
      },
      "outputs": [
        {
          "output_type": "stream",
          "name": "stderr",
          "text": [
            "/usr/local/lib/python3.7/dist-packages/ipykernel_launcher.py:10: UserWarning: Implicit dimension choice for softmax has been deprecated. Change the call to include dim=X as an argument.\n",
            "  # Remove the CWD from sys.path while we load stuff.\n"
          ]
        },
        {
          "output_type": "stream",
          "name": "stdout",
          "text": [
            "batch:   100,\t acc: 0.912000\n",
            "batch:   200,\t acc: 0.923500\n",
            "batch:   300,\t acc: 0.926667\n",
            "batch:   400,\t acc: 0.926250\n",
            "batch:   500,\t acc: 0.926600\n",
            "batch:   600,\t acc: 0.925833\n",
            "batch:   700,\t acc: 0.924000\n",
            "Accuracy: 92.31%\n"
          ]
        }
      ],
      "source": [
        "correct = 0\n",
        "total = 0\n",
        "with torch.no_grad():\n",
        "  for i, data in enumerate(test_loader):\n",
        "    inputs, labels = data[0].view(-1,5*150), data[1].view(-1,1*11)\n",
        "    predict = predict_label(inputs)\n",
        "    #print(labels)\n",
        "    #print(predict)\n",
        "    total += labels.size(0)\n",
        "    correct += (predict == labels).sum().item()\n",
        "\n",
        "    if i % 100 == 99:\n",
        "      print('batch: %5d,\\t acc: %f' % (i + 1, correct / (total*10)))\n",
        "  print('Accuracy: %.2f%%' % (correct / total*10))"
      ]
    }
  ],
  "metadata": {
    "colab": {
      "provenance": [],
      "include_colab_link": true
    },
    "kernelspec": {
      "display_name": "Python 3",
      "name": "python3"
    },
    "language_info": {
      "name": "python"
    }
  },
  "nbformat": 4,
  "nbformat_minor": 0
}